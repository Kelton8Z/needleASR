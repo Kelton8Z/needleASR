{
 "cells": [
  {
   "cell_type": "markdown",
   "metadata": {
    "id": "ekMjfiqpAUZU"
   },
   "source": [
    "# Environment Setup"
   ]
  },
  {
   "cell_type": "code",
   "execution_count": 1,
   "metadata": {
    "colab": {
     "base_uri": "https://localhost:8080/"
    },
    "executionInfo": {
     "elapsed": 19978,
     "status": "ok",
     "timestamp": 1732397318145,
     "user": {
      "displayName": "Qingzheng Wang Wang",
      "userId": "10598438127262495697"
     },
     "user_tz": 300
    },
    "id": "HKlxuFjsAUZX",
    "outputId": "1d83ec42-3f9d-469f-aef8-fd25484d9548"
   },
   "outputs": [
    {
     "name": "stdout",
     "output_type": "stream",
     "text": [
      "Mounted at /content/drive\n",
      "/content/drive/Othercomputers/我的笔记本电脑/24_fall/deep_learning_systems/needleASR\n"
     ]
    }
   ],
   "source": [
    "# Code to set up the assignment\n",
    "from google.colab import drive\n",
    "drive.mount('/content/drive')\n",
    "%cd /content/drive/Othercomputers/我的笔记本电脑/24_fall/deep_learning_systems/needleASR\n"
   ]
  },
  {
   "cell_type": "code",
   "execution_count": 2,
   "metadata": {
    "colab": {
     "base_uri": "https://localhost:8080/"
    },
    "executionInfo": {
     "elapsed": 45385,
     "status": "ok",
     "timestamp": 1732397366685,
     "user": {
      "displayName": "Qingzheng Wang Wang",
      "userId": "10598438127262495697"
     },
     "user_tz": 300
    },
    "id": "G-TVwAy-AUZZ",
    "outputId": "684974c3-5b3f-4013-b90f-2f8e6b7ddfe1"
   },
   "outputs": [
    {
     "name": "stdout",
     "output_type": "stream",
     "text": [
      "Collecting pybind11\n",
      "  Downloading pybind11-2.13.6-py3-none-any.whl.metadata (9.5 kB)\n",
      "Downloading pybind11-2.13.6-py3-none-any.whl (243 kB)\n",
      "\u001b[?25l   \u001b[90m━━━━━━━━━━━━━━━━━━━━━━━━━━━━━━━━━━━━━━━━\u001b[0m \u001b[32m0.0/243.3 kB\u001b[0m \u001b[31m?\u001b[0m eta \u001b[36m-:--:--\u001b[0m\r\u001b[2K   \u001b[91m━━━━━━━━━━━━━━━━━━━━━━━━━━━━━━━━━━━━━━\u001b[0m\u001b[91m╸\u001b[0m\u001b[90m━\u001b[0m \u001b[32m235.5/243.3 kB\u001b[0m \u001b[31m7.4 MB/s\u001b[0m eta \u001b[36m0:00:01\u001b[0m\r\u001b[2K   \u001b[90m━━━━━━━━━━━━━━━━━━━━━━━━━━━━━━━━━━━━━━━━\u001b[0m \u001b[32m243.3/243.3 kB\u001b[0m \u001b[31m5.7 MB/s\u001b[0m eta \u001b[36m0:00:00\u001b[0m\n",
      "\u001b[?25hInstalling collected packages: pybind11\n",
      "Successfully installed pybind11-2.13.6\n",
      "-- Found pybind11: /usr/local/lib/python3.10/dist-packages/pybind11/include (found version \"2.13.6\")\n",
      "-- Found cuda, building cuda backend\n",
      "Sat Nov 23 21:28:50 2024       \n",
      "+---------------------------------------------------------------------------------------+\n",
      "| NVIDIA-SMI 535.104.05             Driver Version: 535.104.05   CUDA Version: 12.2     |\n",
      "|-----------------------------------------+----------------------+----------------------+\n",
      "| GPU  Name                 Persistence-M | Bus-Id        Disp.A | Volatile Uncorr. ECC |\n",
      "| Fan  Temp   Perf          Pwr:Usage/Cap |         Memory-Usage | GPU-Util  Compute M. |\n",
      "|                                         |                      |               MIG M. |\n",
      "|=========================================+======================+======================|\n",
      "|   0  Tesla T4                       Off | 00000000:00:04.0 Off |                    0 |\n",
      "| N/A   46C    P8               9W /  70W |      0MiB / 15360MiB |      0%      Default |\n",
      "|                                         |                      |                  N/A |\n",
      "+-----------------------------------------+----------------------+----------------------+\n",
      "                                                                                         \n",
      "+---------------------------------------------------------------------------------------+\n",
      "| Processes:                                                                            |\n",
      "|  GPU   GI   CI        PID   Type   Process name                            GPU Memory |\n",
      "|        ID   ID                                                             Usage      |\n",
      "|=======================================================================================|\n",
      "|  No running processes found                                                           |\n",
      "+---------------------------------------------------------------------------------------+\n",
      "-- Autodetected CUDA architecture(s):  7.5\n",
      "-- Configuring done (4.1s)\n",
      "-- Generating done (5.7s)\n",
      "-- Build files have been written to: /content/drive/Othercomputers/我的笔记本电脑/24_fall/deep_learning_systems/needleASR/build\n",
      "make[1]: Entering directory '/content/drive/Othercomputers/我的笔记本电脑/24_fall/deep_learning_systems/needleASR/build'\n",
      "make[2]: Entering directory '/content/drive/Othercomputers/我的笔记本电脑/24_fall/deep_learning_systems/needleASR/build'\n",
      "make[3]: Entering directory '/content/drive/Othercomputers/我的笔记本电脑/24_fall/deep_learning_systems/needleASR/build'\n",
      "make[3]: Leaving directory '/content/drive/Othercomputers/我的笔记本电脑/24_fall/deep_learning_systems/needleASR/build'\n",
      "make[3]: Entering directory '/content/drive/Othercomputers/我的笔记本电脑/24_fall/deep_learning_systems/needleASR/build'\n",
      "[-25%] \u001b[32mBuilding CXX object CMakeFiles/ndarray_backend_cpu.dir/src/ndarray_backend_cpu.cc.o\u001b[0m\n",
      "[  0%] \u001b[32m\u001b[1mLinking CXX shared module /content/drive/Othercomputers/我的笔记本电脑/24_fall/deep_learning_systems/needleASR/python/needle/backend_ndarray/ndarray_backend_cpu.cpython-310-x86_64-linux-gnu.so\u001b[0m\n",
      "make[3]: Leaving directory '/content/drive/Othercomputers/我的笔记本电脑/24_fall/deep_learning_systems/needleASR/build'\n",
      "[  0%] Built target ndarray_backend_cpu\n",
      "make[3]: Entering directory '/content/drive/Othercomputers/我的笔记本电脑/24_fall/deep_learning_systems/needleASR/build'\n",
      "[ 25%] \u001b[34m\u001b[1mBuilding NVCC (Device) object CMakeFiles/ndarray_backend_cuda.dir/src/ndarray_backend_cuda_generated_ndarray_backend_cuda.cu.o\u001b[0m\n",
      "make[3]: Leaving directory '/content/drive/Othercomputers/我的笔记本电脑/24_fall/deep_learning_systems/needleASR/build'\n",
      "make[3]: Entering directory '/content/drive/Othercomputers/我的笔记本电脑/24_fall/deep_learning_systems/needleASR/build'\n",
      "[ 50%] \u001b[32m\u001b[1mLinking CXX shared module /content/drive/Othercomputers/我的笔记本电脑/24_fall/deep_learning_systems/needleASR/python/needle/backend_ndarray/ndarray_backend_cuda.cpython-310-x86_64-linux-gnu.so\u001b[0m\n",
      "make[3]: Leaving directory '/content/drive/Othercomputers/我的笔记本电脑/24_fall/deep_learning_systems/needleASR/build'\n",
      "[ 50%] Built target ndarray_backend_cuda\n",
      "make[2]: Leaving directory '/content/drive/Othercomputers/我的笔记本电脑/24_fall/deep_learning_systems/needleASR/build'\n",
      "make[1]: Leaving directory '/content/drive/Othercomputers/我的笔记本电脑/24_fall/deep_learning_systems/needleASR/build'\n",
      "env: PYTHONPATH=./python\n",
      "env: NEEDLE_BACKEND=nd\n"
     ]
    }
   ],
   "source": [
    "!pip3 install pybind11\n",
    "!make\n",
    "%set_env PYTHONPATH ./python\n",
    "%set_env NEEDLE_BACKEND nd\n",
    "import sys\n",
    "sys.path.append('./python')"
   ]
  },
  {
   "cell_type": "markdown",
   "metadata": {
    "id": "C6Ugg7fxAUZZ"
   },
   "source": [
    "# CTC Tests"
   ]
  },
  {
   "cell_type": "code",
   "execution_count": 18,
   "metadata": {
    "colab": {
     "base_uri": "https://localhost:8080/"
    },
    "executionInfo": {
     "elapsed": 162,
     "status": "ok",
     "timestamp": 1732393848174,
     "user": {
      "displayName": "Qingzheng Wang Wang",
      "userId": "10598438127262495697"
     },
     "user_tz": 300
    },
    "id": "NaXVAnDbkBhZ",
    "outputId": "4e1e1542-eeda-4f75-d0b7-e06107076a9f"
   },
   "outputs": [
    {
     "name": "stdout",
     "output_type": "stream",
     "text": [
      "env: PYTHONPATH=./python\n",
      "env: NEEDLE_BACKEND=nd\n"
     ]
    }
   ],
   "source": [
    "%set_env PYTHONPATH ./python\n",
    "%set_env NEEDLE_BACKEND nd\n",
    "import sys\n",
    "sys.path.append('./python')"
   ]
  },
  {
   "cell_type": "code",
   "execution_count": null,
   "metadata": {
    "colab": {
     "base_uri": "https://localhost:8080/"
    },
    "id": "u_0mDaOUAUZa",
    "outputId": "7dc1ef6f-0cec-4b53-b82b-3d6b68727df8"
   },
   "outputs": [
    {
     "name": "stdout",
     "output_type": "stream",
     "text": [
      "Using needle backend\n"
     ]
    }
   ],
   "source": [
    "!python3 tests/ctcloss/test_ctcloss.py"
   ]
  }
 ],
 "metadata": {
  "accelerator": "GPU",
  "colab": {
   "gpuType": "T4",
   "provenance": []
  },
  "kernelspec": {
   "display_name": "pytorch",
   "language": "python",
   "name": "python3"
  },
  "language_info": {
   "name": "python",
   "version": "3.9.7"
  }
 },
 "nbformat": 4,
 "nbformat_minor": 0
}
